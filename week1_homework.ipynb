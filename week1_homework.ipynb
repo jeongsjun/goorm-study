{
 "cells": [
  {
   "cell_type": "code",
   "execution_count": 16,
   "id": "8961776e-6a99-41a3-93f3-469967919eeb",
   "metadata": {},
   "outputs": [
    {
     "name": "stdin",
     "output_type": "stream",
     "text": [
      "페이지 수 입력:  2\n"
     ]
    },
    {
     "data": {
      "application/vnd.jupyter.widget-view+json": {
       "model_id": "2269b22845c64f7f9ba54b6ba8b698c2",
       "version_major": 2,
       "version_minor": 0
      },
      "text/plain": [
       "  0%|          | 0/30 [00:00<?, ?it/s]"
      ]
     },
     "metadata": {},
     "output_type": "display_data"
    },
    {
     "data": {
      "application/vnd.jupyter.widget-view+json": {
       "model_id": "53cc9ccd93a24b4198bc8a12c15f8203",
       "version_major": 2,
       "version_minor": 0
      },
      "text/plain": [
       "  0%|          | 0/20 [00:00<?, ?it/s]"
      ]
     },
     "metadata": {},
     "output_type": "display_data"
    }
   ],
   "source": [
    "from bs4 import BeautifulSoup\n",
    "import requests\n",
    "import pandas as pd\n",
    "from tqdm.auto import tqdm\n",
    "import lxml\n",
    "import re #정규표현식 사용을 위한 라이브러리\n",
    "\n",
    "data=pd.DataFrame(columns=['title','url','writer','date','content'])\n",
    "\n",
    "def makeUrl(pg): # 입력한 페이지의 url을 변환하는 함수\n",
    "    url='http://boannews.com/media/t_list.asp?Page='+str(pg)+'&kind='\n",
    "    return url\n",
    "\n",
    "def crawlingUrl(URL): # 한 페이지의 url을 읽어와 제목, url, 작성자를 반환하는 함수\n",
    "    site=requests.get(URL)\n",
    "    site_soup=BeautifulSoup(site.text, 'lxml')\n",
    "    news_list=site_soup.select('div.news_list')\n",
    "    for news in tqdm(news_list):\n",
    "        news_title=news.select('span.news_txt')[0].text\n",
    "        news_url=news.find('a').get('href')\n",
    "        news_url='http://boannews.com'+news_url\n",
    "        news_write=news.select('span.news_writer')[0].text\n",
    "        news_writer=re.search(r'([\\w\\s]+) \\|',news_write) #정규표현식으로 '\\|' 앞에 해당하는 문자열 추출\n",
    "        news_writer=news_writer.group(1) #괄호로 둘러싼 그룹에 접근해서 변수에 저장\n",
    "        news_date=re.search(r'\\| (.+)',news_write) #정규표현식으로 '\\|' 뒤에 해당하는 문자열 추출\n",
    "        news_date=news_date.group(1)\n",
    "\n",
    "        content_site=requests.get(news_url) # 한 기사의 본문 url\n",
    "        content_site_soup=BeautifulSoup(content_site.text, 'lxml')\n",
    "        content=content_site_soup.find('div', id='news_content')\n",
    "        if content:\n",
    "            tag = content.find_all(['br','div','p','img'])\n",
    "            for script in tag:\n",
    "                script.extract()\n",
    "            news_content = content.get_text('\\n', strip=True)\n",
    "            news_content = news_content.split('\\n')\n",
    "        else:\n",
    "            news_content = []\n",
    "        new_data=[news_title, news_url, news_writer,news_date, news_content]\n",
    "        data.loc[len(data)]=new_data\n",
    "\n",
    "n=int(input('페이지 수 입력: '))\n",
    "\n",
    "for i in range(1,n+1):\n",
    "    url=makeUrl(i)\n",
    "    crawlingUrl(url)\n",
    "\n",
    "data.to_csv('boannews.csv', encoding='utf-8-sig', index=False)"
   ]
  },
  {
   "cell_type": "code",
   "execution_count": null,
   "id": "825a4bc0-1b14-462c-af87-70763f39691a",
   "metadata": {},
   "outputs": [],
   "source": []
  }
 ],
 "metadata": {
  "kernelspec": {
   "display_name": "Python 3 (ipykernel)",
   "language": "python",
   "name": "python3"
  },
  "language_info": {
   "codemirror_mode": {
    "name": "ipython",
    "version": 3
   },
   "file_extension": ".py",
   "mimetype": "text/x-python",
   "name": "python",
   "nbconvert_exporter": "python",
   "pygments_lexer": "ipython3",
   "version": "3.8.10"
  }
 },
 "nbformat": 4,
 "nbformat_minor": 5
}
