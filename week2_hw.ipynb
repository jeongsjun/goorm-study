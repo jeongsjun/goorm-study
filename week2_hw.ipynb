{
 "cells": [
  {
   "cell_type": "code",
   "execution_count": 5,
   "id": "bfba4466",
   "metadata": {},
   "outputs": [
    {
     "name": "stdout",
     "output_type": "stream",
     "text": [
      "Collecting selenium==3.14.0\n",
      "  Using cached selenium-3.14.0-py2.py3-none-any.whl (898 kB)\n",
      "Requirement already satisfied: urllib3 in c:\\users\\fndpr\\miniconda3\\lib\\site-packages (from selenium==3.14.0) (1.26.16)\n",
      "Installing collected packages: selenium\n",
      "  Attempting uninstall: selenium\n",
      "    Found existing installation: selenium 4.15.2\n",
      "    Uninstalling selenium-4.15.2:\n",
      "      Successfully uninstalled selenium-4.15.2\n",
      "Successfully installed selenium-3.14.0\n",
      "Note: you may need to restart the kernel to use updated packages.\n"
     ]
    }
   ],
   "source": [
    "pip install selenium==3.14.0"
   ]
  },
  {
   "cell_type": "code",
   "execution_count": 6,
   "id": "b9532fc9",
   "metadata": {},
   "outputs": [
    {
     "name": "stdout",
     "output_type": "stream",
     "text": [
      "Requirement already satisfied: beautifulsoup4 in c:\\users\\fndpr\\miniconda3\\lib\\site-packages (4.12.2)\n",
      "Requirement already satisfied: soupsieve>1.2 in c:\\users\\fndpr\\miniconda3\\lib\\site-packages (from beautifulsoup4) (2.4)\n",
      "Note: you may need to restart the kernel to use updated packages.\n"
     ]
    }
   ],
   "source": [
    "pip install beautifulsoup4"
   ]
  },
  {
   "cell_type": "code",
   "execution_count": 1,
   "id": "f073e255",
   "metadata": {},
   "outputs": [
    {
     "name": "stdout",
     "output_type": "stream",
     "text": [
      "제목: 삼성화재 실비 보험료 인상 고지,  무배당삼성화재실손의료비보험(1611.7), 연령조정분, 위험률조정분\n",
      "링크: https://odaily.tistory.com/1968\n",
      "카테고리: 일상다반사\n",
      "본문 일부: 그냥 오늘 아침부터 실비 보험 갱신 메일이 왔는데, 실비에 특약하나 없는데 왜 이렇게 요금이 많이 올랐지 하는 생각에 슬퍼서 포스팅을 끄적여 봅니다. 어느덧 가입 7년째 갱신 중이고 보험료가 월 4만 원 납입이라네요. 평소에 3만 원대 납입일 때는 크게 관심이 없었는데, 4만 원이라고 고지받으니까 앞자리가 바뀌어서 그런지 헉하더라고요. 그래서 이제는 알고 ..\n",
      "작성자: 🌷일상을 공유합니다\n",
      "작성 시간: 일상다반사\n",
      "\n",
      "제목: 먹태쌀칩 청양마요 맛 파는 곳 가격 편의점 맥주 안주 추천\n",
      "링크: https://jju-table.tistory.com/183\n",
      "카테고리: 일상다반사\n",
      "본문 일부: 먹태쌀칩 청양마요 맛 요즘 먹태 과자 인기가 엄청 많죠?? 지난번에 먹태깡 먹어봤는데 먹태쌀칩 청양마요 맛도 맛있다고 해서 저도 이번에 먹태쌀칩 청양마요를 구매해서 먹어봤어요. 먹태깡의 인기가 많아서 먹태쌀칩 청양마요도 구하기가 힘들더라고요. 어렵게 먹태쌀칩 청양마요 맛을 구매해서 먹어봤어요. 제가 먹어 본 먹태쌀칩 청양마요를 소개해 볼게요. ..\n",
      "작성자: 현쥬테이블\n",
      "작성 시간: 일상다반사\n",
      "\n",
      "제목: 영국 로터스를 인수한 말레이시아 프로톤 자동차\n",
      "링크: https://munion.tistory.com/78\n",
      "카테고리: 자동차\n",
      "본문 일부: 역사 프로톤 자동차는 말레이시아의 경제 개발을 이끈 마하티를 빈 모하맛이 국산 자동차 산업 육성을 목표로 1983년에 설립한 국영 기업입니다. 국영기업이니 만큼 수입차량에 부과하는 200%의 관세를 보호막으로 말레이시아 내수 시장을 기반으로 1990년대 급성장하게 됩니다.미쓰비시 현대자동차와 같이 일본 미쓰비시의 기술을 받아 차량을 생산하던 회사였..\n",
      "작성자: 저품격 카라이프\n",
      "작성 시간: 자동차\n",
      "\n",
      "제목: 강아지도 악몽을 꾸고 잠꼬대를 할까?\n",
      "링크: https://petguide.tistory.com/92\n",
      "카테고리: 반려동물\n",
      "본문 일부: 사람도 잠을 잘 때 다양한 꿈을 꾸면서 잠꼬대를 하는 걸 알 수 있습니다. 이는 강아지에게도 비슷한 현상이 나타나는데요. 오늘은 강아지도 악몽을 꾸고 잠꼬대를 하는지 알아보도록 하겠습니다. 목차 1. 강아지도 꿈을 꿀까? 2. 어떤 꿈을 꿀까? 3. 강아지 잠꼬대 행동은? 4. 악몽을 꾼다면 깨워야 할까? #. 강아지도 악몽을 꾸고 잠꼬대를 할까? 1. 강아지도 꿈을 꿀..\n",
      "작성자: 반려동물 이야기\n",
      "작성 시간: 반려동물\n",
      "\n",
      "제목: 대장내시경 일주일 전 알아야 할 내용\n",
      "링크: https://tip1spoon.tistory.com/256\n",
      "카테고리: 건강\n",
      "본문 일부: 대장내시경은 대장의 상태를 확인하고 대장암이나 선종성 용종과 같은 질병을 조기에 발견하는 데 중요한 역할을 합니다. *생리 또는 임신: 생리 중이거나 임신한 여성은 검사를 받을 수 없습니다. 대장내시경 받아야 하는 이유 선종성 용종: 대장 점막이 비정상적으로 튀어나온 용종은 대장암으로 발전할 위험이 있습니다. 위험군 대상: 육류 및 밀가루 위주의 식사..\n",
      "작성자: 팁 한 스푼 - 생활의 조언\n",
      "작성 시간: 건강\n",
      "\n",
      "제목: 김장김치 100포기 만들기 후기, 레시피(몸살은 덤)\n",
      "링크: https://very-easy1.very-easy.co.kr/78\n",
      "카테고리: 요리\n",
      "본문 일부: 안녕하세요, 여러분. 오늘은 김치 100 포기를 만드는 황금 레시피를 소개하려 합니다. 김치를 직접 담그면 상상 이상의 만족감을 느낄 수 있습니다. 단, 완성됐을 때 느낄 수 있고 그 과정은 결코 순탄하지 않습니다. 저희 집은 시골에 계신 어머님댁에서 매년 김장김치 100 포기 프로젝트를 진행 중이고 그 경험에 대한 리뷰, 만드는 방법에 대한 소개를 하려고 합니..\n",
      "작성자: Very Easy 핫이슈\n",
      "작성 시간: 요리\n",
      "\n",
      "제목: 특별검사 법률 제정 목적/특별검사 임명절차/특별검사 후보추천위원 /특별검사 결격사유/특별검사 공소제기 재판기간\n",
      "링크: https://www.mysubaktistory.com/374\n",
      "카테고리: 일상다반사\n",
      "본문 일부: 특별검사의 임명 등에 관한 법률 ■ 제정 목적 범죄수사와 공소제기 등에 있어 특정사건에 한정하여 독립적인 지위를 가지는 특별검사의 임명과 직무 등에 관하여 필요한 사항을 규정함을 목적으로 한다. ■ 수사대상 - 국회가 정치적 중립성과 공정성 등을 이유로 특별검사의 수사가 필요하다고 본회의에서 의결한 사건 - 법무부장관이 이해관계 충돌이나 공정성 ..\n",
      "작성자: 사회복지사 평생교육사  요양복지사  쉽게 취득하기, 뇌졸중 완치,치매예방\n",
      "작성 시간: 일상다반사\n",
      "\n",
      "제목: 안구가 붓는 이유 10가지\n",
      "링크: https://naturally-plus.tistory.com/160\n",
      "카테고리: 건강\n",
      "본문 일부: 안녕하세요 네츄러리플러스 류영석 매니저 입니다 이번 시간에는 안구가 붓는 이유에 대해 알아보려 합니다. 눈은 다른 기관에 비해 굉장히 예민한 부위이기 때문에 작은 자극에도 여러가지 증상을 발생시킬 수 있습니다. 별거 아닐 수 있지만 때에 따라 질환에 해당되기도 합니다. 눈의 증상은 매우 다양하여 증상을 나누기도 쉽지 않지만 여러가지 원인으로 인해 ..\n",
      "작성자: 네츄러리플러스 코리아 유토피안팀 류영석NPM\n",
      "작성 시간: 건강\n",
      "\n",
      "제목: [ 고양/탄현 ] 탄현에 천연잔디가 있는 루프탑 강아지 카페 '테일더블루'\n",
      "링크: https://vetstory.tistory.com/400\n",
      "카테고리: 반려동물\n",
      "본문 일부: 경기도 고양시 탄현에 위치한 루프탑 강아지 카페 '테일더블루'를 소개합니다~! 테일더블루 주소 : 경기도 고양이 일산서구 하이파크2로 40 금문프라자 9층 영업시간 : 매일 12 : 00 - 24 : 00 안녕하세요~! 요새 날씨가 많이 추워졌습니다. 날씨가 너무 추워서 평소에 가던 운동장은 포기했습니다. 그래서 실내와 실외가 겸비된 곳을 찾다가 '테일더블루'를 찾았습니..\n",
      "작성자: 수의사가 알려주는 반려동물 생활 속 꿀팁\n",
      "작성 시간: 반려동물\n",
      "\n",
      "제목: 배터리 재활용 업체가 주목받기 시작하다\n",
      "링크: https://smyun.tistory.com/606\n",
      "카테고리: 자동차\n",
      "본문 일부: 영국 총리를 포함한 일부 사람들에게 재활용은 주로 다양한 색상의 쓰레기통에 생활 쓰레기를 분류하는 지루한 일입니다. 그러나 중요한 광물, 특히 배터리 금속의 재활용은 새로운 에너지 경제에서 중요한 지정학적 이슈가 되고 있으며, 향후 몇 년 동안 주목해야 할 가장 중요한 청정 기술 분야 중 하나입니다. 전기 자동차 혁명을 주도할 수 있는 '지상 광산' 노르..\n",
      "작성자: Love, Knowledge, Pity + Freedom\n",
      "작성 시간: 자동차\n",
      "\n",
      "제목: 남성 피부 관리의 기본부터 고급 팁까지: 건강한 피부를 위한 정보 및 남성 피부 유형별 관리 방법, 효과적인 루틴, 자외선 차단의 중요성\n",
      "링크: https://issue.lifeinfobox.com/57\n",
      "카테고리: 건강\n",
      "본문 일부: 남성 피부 관리 시작 가이드: 기초부터 전문까지 피부 관리는 남성에게도 중요한 일입니다. 많은 남성들이 피부 관리의 중요성을 인식하고 있지만, 어디서부터 시작해야 할지 모르는 경우가 많습니다. 남성 피부 관리의 기본부터 시작하여, 단계별로 어떻게 관리를 해나가야 하는지에 대해 알아보겠습니다. 1. 남성 피부 관리의 중요성: 외모뿐만 아니라 건강을 위해..\n",
      "작성자: 라이프 이슈 박스\n",
      "작성 시간: 건강\n",
      "\n",
      "제목: 코모양으로 알아보는 성격\n",
      "링크: https://ddongsonii.tistory.com/59\n",
      "카테고리: 패션뷰티\n",
      "본문 일부: 코 모양으로 성격을 본다는 사실에 그야말로 '코웃음' 치는 사람들이 많을 것 같지만 우리가 모르는 영역에서 오랫동안 코의 모양과 유전적 연관성이 연구돼 왔어. 세계 과학자들은 다양한 인종과 그 기후대에 속한 사람들의 3D 스캔을 통해 코 유형을 해독해 왔습니다. 예를 들어 콧구멍의 폭, 콧구멍 사이의 거리, 코의 높이, 콧대의 길이, 코끝의 돌출 정도, 콧구멍..\n",
      "작성자: Daily Life\n",
      "작성 시간: 패션뷰티\n",
      "\n"
     ]
    }
   ],
   "source": [
    "from selenium import webdriver\n",
    "from bs4 import BeautifulSoup\n",
    "import time\n",
    "\n",
    "# webdriver 설정(Chrome, Firefox 등)\n",
    "driver = webdriver.Chrome('C:\\\\Users\\\\fndpr\\\\chromedriver-win64\\\\chromedriver.exe')\n",
    "\n",
    "# 크롤링할 웹 사이트 주소\n",
    "website_url = 'https://www.tistory.com/category/life'\n",
    "\n",
    "# 웹 사이트 접속\n",
    "driver.get(website_url)\n",
    "\n",
    "# 웹 사이트 로딩을 위한 시간 설정\n",
    "time.sleep(3)\n",
    "\n",
    "# 웹 사이트의 HTML 정보 가져오기\n",
    "html = driver.page_source\n",
    "\n",
    "# BeautifulSoup 객체 생성\n",
    "soup = BeautifulSoup(html, 'html.parser')\n",
    "\n",
    "# 게시글 정보를 가지고 있는 HTML 태그와 클래스 찾기\n",
    "posts = soup.find_all('a', {'class': 'box_desc box_desc_type2'})\n",
    "\n",
    "# 각 게시글의 제목, 링크, 카테고리, 본문 일부, 작성자, 작성 시간 출력\n",
    "for post in posts:\n",
    "    title = post.find('strong', {'class': 'desc_tit'}).text.strip()\n",
    "    link = post['href']\n",
    "    category = post.find('span', {'class': 'inner_data'}).text.strip()\n",
    "    excerpt = post.find('p', {'class': 'desc_g'}).text.strip()\n",
    "    author = post.find('span', {'class': 'txt_id'}).text.strip()\n",
    "    datetime = post.find('dd').text.strip()\n",
    "    print(f\"제목: {title}\\n링크: {link}\\n카테고리: {category}\\n본문 일부: {excerpt}\\n작성자: {author}\\n작성 시간: {datetime}\\n\")\n",
    "\n",
    "# 브라우저 종료\n",
    "driver.quit()"
   ]
  },
  {
   "cell_type": "code",
   "execution_count": null,
   "id": "16f45a2d",
   "metadata": {},
   "outputs": [],
   "source": []
  }
 ],
 "metadata": {
  "kernelspec": {
   "display_name": "Python 3 (ipykernel)",
   "language": "python",
   "name": "python3"
  },
  "language_info": {
   "codemirror_mode": {
    "name": "ipython",
    "version": 3
   },
   "file_extension": ".py",
   "mimetype": "text/x-python",
   "name": "python",
   "nbconvert_exporter": "python",
   "pygments_lexer": "ipython3",
   "version": "3.8.17"
  }
 },
 "nbformat": 4,
 "nbformat_minor": 5
}
